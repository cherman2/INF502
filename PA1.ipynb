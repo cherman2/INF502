{
 "cells": [
  {
   "cell_type": "markdown",
   "metadata": {},
   "source": [
    "# PA 1: Genetic Comparison "
   ]
  },
  {
   "cell_type": "markdown",
   "metadata": {},
   "source": [
    "I followed the steps you orginally laid out. I created The functions: matchscore, contiguouschainscore and a function I called shifter(which will later be split into topshifter and bottomshifter. I'll explain more when I get to that hiccup). I got all these functions working and I procceded on to the userinput function and the fileopener function. I then implements a function called is best. This allows me to figure out the best match score or the best contig score. "
   ]
  },
  {
   "cell_type": "code",
   "execution_count": null,
   "metadata": {},
   "outputs": [],
   "source": [
    "def main():\n",
    "    shiftAmt, approach, file1, file2 = userinput()\n",
    "    dna1, dna2 = fileopener(file1, file2)\n",
    "    topshiftedlist, bottomlist = topshifter(dna1, dna2, shiftAmt)\n",
    "    toplist, bottomshiftedlist = bottomshifter(dna1, dna2, shiftAmt)\n",
    "    besttopshifted, topseqs = isbest(topshiftedlist, bottomlist, approach)\n",
    "    bestbottomshifted, bottomseqs = isbest(toplist, bottomshiftedlist, approach)\n",
    "    best, seqs = topvsbottom(besttopshifted, topseqs, bestbottomshifted, bottomseqs)\n",
    "    print(best, seqs)"
   ]
  },
  {
   "cell_type": "code",
   "execution_count": null,
   "metadata": {},
   "outputs": [],
   "source": [
    "def checkstrings(seq1, seq2):\n",
    "    if len(seq1) != len(seq2):\n",
    "        print( \"Sequences must be the same length. Please run the code again with the appropriate sequences\")\n",
    "        quit()\n",
    "    for x in seq1:\n",
    "        if x != 'A' and x !='C' and x != 'G' and x !='T':\n",
    "            print(\" The Sequences Must Be All DNA Nucleotides (A,C,T,or G). Please run the code again with the appropriate sequences \")\n",
    "            quit()\n",
    "    for x in seq2:\n",
    "        if x != 'A' and x !='C' and x != 'G' and x !='T':\n",
    "            print(\" The Sequences Must Be All DNA Nucleotides (A,C,T,or G). Please run the code again with the appropriate sequences \")\n",
    "            quit()"
   ]
  },
  {
   "cell_type": "code",
   "execution_count": null,
   "metadata": {},
   "outputs": [],
   "source": [
    "def fileopener(filename1, filename2):\n",
    "    file = open(filename1)\n",
    "    file2 = open(filename2)\n",
    "    for x in file:\n",
    "        seq1 = x\n",
    "    for y in file2:\n",
    "        seq2 = y\n",
    "    seq1 = seq1.upper() #this makes sure that all the sequences are capitalizes even if they arent\n",
    "    seq2 = seq2.upper() # imported as an uppercase string\n",
    "    checkstrings(seq1, seq2)\n",
    "    file.close()\n",
    "    file2.close()\n",
    "\n",
    "    return seq1, seq2\n"
   ]
  },
  {
   "cell_type": "code",
   "execution_count": null,
   "metadata": {},
   "outputs": [],
   "source": [
    "def userinput():\n",
    "    print(\"The set shift amount is 5 if you want to use the set shift amount enter \\\" -1 \\\"\")\n",
    "    attempt = False\n",
    "    while attempt == False:\n",
    "        try:\n",
    "            shiftAmt = int(input(\"Input shift amount \"))\n",
    "            attempt = True\n",
    "        except ValueError:\n",
    "            print(\"oops you must enter a number\")\n",
    "            attempt = False\n",
    "    if shiftAmt == -1:\n",
    "        shiftAmt = 5\n",
    "\n",
    "    print(\" There are two approaches to sequence comparision (1) Nucleotide matching and (2) Contiguous chains\")\n",
    "    while attempt == True:\n",
    "        approach = input(\"What approach do you want to be used? Please enter 1 for matching and 2 for contiguous chains: \")\n",
    "        try:\n",
    "            approach = int(approach)\n",
    "        except ValueError:\n",
    "            print(\"Oops you have to enter 1 or 2\")\n",
    "            continue\n",
    "        if approach == 1 or approach == 2:\n",
    "            attempt = False\n",
    "        else:\n",
    "            print('Valid range, please: 0-100')\n",
    "\n",
    "    print(\"Please make sure to enter your complete file name with file extension. For example: sequences.txt\")\n",
    "\n",
    "    while attempt == False:\n",
    "        filename1 = input(\"please enter your first file name: \")\n",
    "        filename2 = input(\"please enter your second file name: \")\n",
    "        file1check = False\n",
    "        file2check = False\n",
    "        try:\n",
    "            file = open(filename1)\n",
    "            file1check = True\n",
    "        except IOError:\n",
    "            print(\"Oops \" + filename1+ \" does not exist. Please enter a valid name\")\n",
    "        try:\n",
    "            file2 = open(filename2)\n",
    "            file2check = True\n",
    "        except IOError:\n",
    "            print(\"Oops \" + filename2 + \" does not exist. Please enter a valid name\")\n",
    "        if file1check == True and file2check == True:\n",
    "            attempt = True #this makes sure that both of my tries pass before I exit the while loop\n",
    "\n",
    "    return shiftAmt, approach, filename1, filename2\n"
   ]
  },
  {
   "cell_type": "code",
   "execution_count": null,
   "metadata": {},
   "outputs": [],
   "source": [
    "def matchscore(dna1, dna2):\n",
    "    score = 0\n",
    "    for index in range(len(dna1)):\n",
    "        if dna1[index] == dna2[index]:\n",
    "            score += 1\n",
    "    return score\n"
   ]
  },
  {
   "cell_type": "code",
   "execution_count": null,
   "metadata": {},
   "outputs": [],
   "source": [
    "def contigousChainScore(dna1, dna2):\n",
    "    cscore = 0\n",
    "    maxscore = 0\n",
    "    for index in range(len(dna1)):\n",
    "        if dna1[index] == dna2[index]:\n",
    "            cscore += 1\n",
    "        else:\n",
    "            if maxscore < cscore:\n",
    "                maxscore = cscore\n",
    "                cscore = 0\n",
    "            else:\n",
    "                cscore = 0\n",
    "    if maxscore < cscore:\n",
    "        maxscore = cscore\n",
    "    return maxscore"
   ]
  },
  {
   "cell_type": "code",
   "execution_count": null,
   "metadata": {},
   "outputs": [],
   "source": [
    "def topshifter( top, bottom , shiftamt):\n",
    "    toplist = [top]\n",
    "    bottomlist = [bottom]\n",
    "\n",
    "    for shift in range(shiftamt):\n",
    "        top = \"-\" + top\n",
    "        toplist.append(top)\n",
    "        bottom = bottom + \"-\"\n",
    "        bottomlist.append(bottom)\n",
    "    return toplist, bottomlist\n"
   ]
  },
  {
   "cell_type": "code",
   "execution_count": null,
   "metadata": {},
   "outputs": [],
   "source": [
    "def bottomshifter( top, bottom , shiftamt):\n",
    "    toplist = [top]\n",
    "    bottomlist = [bottom]\n",
    "    for shift in range(shiftamt):\n",
    "        bottom = \"-\" + bottom\n",
    "        bottomlist.append(bottom)\n",
    "        top = top + \"-\"\n",
    "        toplist.append(top)\n",
    "\n",
    "    return toplist, bottomlist"
   ]
  },
  {
   "cell_type": "code",
   "execution_count": null,
   "metadata": {},
   "outputs": [],
   "source": [
    "def isbest(toplist,bottomlist, simalg):\n",
    "    bestmatch = 0\n",
    "    bestchain = 0\n",
    "    for x in range(len(toplist)):\n",
    "        tempmatch = matchscore(toplist[x], bottomlist[x])\n",
    "        tempchain = contigousChainScore(toplist[x], bottomlist[x])\n",
    "        if bestmatch < tempmatch: #it is important to note that this graps the least shifted seq as the \"best\"\n",
    "            bestmatch = tempmatch\n",
    "            matchseqs = (toplist[x], bottomlist[x])\n",
    "        if bestchain < tempchain:\n",
    "            bestchain = tempchain\n",
    "            chainseqs = (toplist[x], bottomlist[x])\n",
    "    if simalg == 1:\n",
    "        return bestmatch, matchseqs\n",
    "    if simalg == 2:\n",
    "        return bestchain, chainseqs"
   ]
  },
  {
   "cell_type": "code",
   "execution_count": null,
   "metadata": {},
   "outputs": [],
   "source": [
    "def topvsbottom( besttopshifted, topseqs, bestbottomshifted, bottomseqs):\n",
    "    if besttopshifted >= bestbottomshifted:\n",
    "        return besttopshifted, topseqs\n",
    "    else:\n",
    "        return bestbottomshifted, bottomseqs"
   ]
  },
  {
   "cell_type": "code",
   "execution_count": null,
   "metadata": {},
   "outputs": [],
   "source": [
    "main()"
   ]
  },
  {
   "cell_type": "markdown",
   "metadata": {},
   "source": [
    "### For the Matching approach: \n",
    "file1: actgattttt\n",
    "file2: TTTAGCCGAT"
   ]
  },
  {
   "cell_type": "markdown",
   "metadata": {},
   "source": [
    "#### The complete console for that approach\n",
    "The set shift amount is 5 if you want to use the set shift amount enter \" -1 \"\n",
    "Input shift amount 7\n",
    "There are two approaches to sequence comparision (1) Nucleotide matching and (2) Contiguous chains\n",
    "What approach do you want to be used? Please enter 1 for matching and 2 for contiguous chains: 1\n",
    "Please make sure to enter your complete file name with file extension. For example: sequences.txt\n",
    "please enter your first file name: seq1.txt\n",
    "please enter your second file name: seq2.txt\n",
    "4 ('-ACTGACTTTT', 'TTTTGTCGAT-')\n",
    "\n",
    "Process finished with exit code 0\n"
   ]
  },
  {
   "cell_type": "markdown",
   "metadata": {},
   "source": [
    "### For the contiguous chain approach: \n",
    "file1: actgattttt\n",
    "file2: TTTAGCCGAT"
   ]
  },
  {
   "cell_type": "markdown",
   "metadata": {},
   "source": [
    "#### The complete console for that approach\n",
    "The set shift amount is 5 if you want to use the set shift amount enter \" -1 \"\n",
    "Input shift amount 7\n",
    "There are two approaches to sequence comparision (1) Nucleotide matching and (2) Contiguous chains\n",
    "What approach do you want to be used? Please enter 1 for matching and 2 for contiguous chains: 2\n",
    "Please make sure to enter your complete file name with file extension. For example: sequences.txt\n",
    "please enter your first file name: seq1.txt\n",
    "please enter your second file name: seq2.txt\n",
    "4 ('ACTGATTTTT------', '------TTTTGTCGAT')"
   ]
  },
  {
   "cell_type": "markdown",
   "metadata": {},
   "source": [
    "Honestly I had no problems implementing the approaches. My issues arose with shifiting the sequences, comparing the score to get the best score and its linked sequences and just making sure my code caught any error and that the code handled it appropiately.\n",
    "\n",
    "Once I had my major fuctions running I realized that my results were not matching up with the posted answers. This is when I realized that I was only shifted what I considered to be \"sequence1\" and not both of them so I was only seeing half the possible shifts. This is when I created two functions topshifter and bottomshifter to make sure that I was shifting both \"sequence1\" and \"sequence2\".\n",
    "\n",
    "This is also when I realized that I needed a way to get compare which sequence shift( I refer to it as bottom or top) has the better score for the approach so then I wrote topvsbottom which compares the best scores from the the top sequences and the bottom sequences and returns the best score and the respective shifted sequences. \n",
    "\n",
    "Lastly I tried to do exception handling. I wanted to make sure that all user inputs had exception handling so they could only input valid responses. I wanted to make sure that the files existed and catch that error if not. Finally, in my function checkstrings, I did some error handling without a try, except to make sure that the sequences were the same lenght and contained only nuclotide. I also use the fuction .upper() on all data so that the data could be lower case and my program will still read it. "
   ]
  }
 ],
 "metadata": {
  "kernelspec": {
   "display_name": "Python 3",
   "language": "python",
   "name": "python3"
  },
  "language_info": {
   "codemirror_mode": {
    "name": "ipython",
    "version": 3
   },
   "file_extension": ".py",
   "mimetype": "text/x-python",
   "name": "python",
   "nbconvert_exporter": "python",
   "pygments_lexer": "ipython3",
   "version": "3.7.6"
  }
 },
 "nbformat": 4,
 "nbformat_minor": 4
}
