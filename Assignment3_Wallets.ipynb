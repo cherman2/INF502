{
 "cells": [
  {
   "cell_type": "markdown",
   "metadata": {},
   "source": [
    "### WALLET"
   ]
  },
  {
   "cell_type": "markdown",
   "metadata": {},
   "source": [
    "This is my wallet creating function. It asks the user for 5 different amounts for 5 wallets and returns the list. I also casted them into integers to make my life easier later. "
   ]
  },
  {
   "cell_type": "code",
   "execution_count": 9,
   "metadata": {},
   "outputs": [],
   "source": [
    "def theWallet():\n",
    "    walletList =[]\n",
    "    print(\" There are 5 wallets\")\n",
    "    walletList.append(int(input(\"Please enter the cash in the first wallet\")))\n",
    "    walletList.append(int(input(\"Please enter the cash in the second wallet\")))\n",
    "    walletList.append(int(input(\"Please enter the cash in the third wallet\")))\n",
    "    walletList.append(int(input(\"Please enter the cash in the fourth wallet\")))\n",
    "    walletList.append(int(input(\"Please enter the cash in the fifth wallet\")))\n",
    "    return walletList"
   ]
  },
  {
   "cell_type": "code",
   "execution_count": 16,
   "metadata": {},
   "outputs": [
    {
     "name": "stdout",
     "output_type": "stream",
     "text": [
      " There are 5 wallets\n",
      "Please enter the cash in the first wallet5\n",
      "Please enter the cash in the second wallet5\n",
      "Please enter the cash in the third wallet3\n",
      "Please enter the cash in the fourth wallet100\n",
      "Please enter the cash in the fifth wallet9\n"
     ]
    }
   ],
   "source": [
    "walletList = theWallet()"
   ]
  },
  {
   "cell_type": "markdown",
   "metadata": {},
   "source": [
    "This is my max and min function. It sorts the list and then pulls the last number in the list( the biggest) and the first number in the list( the smallest)."
   ]
  },
  {
   "cell_type": "code",
   "execution_count": 17,
   "metadata": {},
   "outputs": [],
   "source": [
    "def bigandlittle(walletList):\n",
    "    walletList.sort()\n",
    "    print(\"The Fattest Wallet has \" + str(walletList[-1])+ \" dollars in it\" )\n",
    "    print(\"The Skinniest Wallet has \" +  str(walletList[0]) + \" dollars in it\")\n",
    "    "
   ]
  },
  {
   "cell_type": "code",
   "execution_count": 18,
   "metadata": {},
   "outputs": [
    {
     "name": "stdout",
     "output_type": "stream",
     "text": [
      "The Fattest Wallet has 100 dollars in it\n",
      "The Skinniest Wallet has 3 dollars in it\n"
     ]
    }
   ],
   "source": [
    "bigandlittle(walletList)"
   ]
  },
  {
   "cell_type": "markdown",
   "metadata": {},
   "source": [
    "This function sums up all the wallet contents. "
   ]
  },
  {
   "cell_type": "code",
   "execution_count": 20,
   "metadata": {},
   "outputs": [],
   "source": [
    "def addemAll(walletList):\n",
    "    sum = 0\n",
    "    for n in walletList:\n",
    "        sum = sum +n\n",
    "    print(\"Altogether, these wallets have \" + str(sum) + \" dollars in them\" )\n",
    "    return sum"
   ]
  },
  {
   "cell_type": "code",
   "execution_count": 21,
   "metadata": {},
   "outputs": [
    {
     "name": "stdout",
     "output_type": "stream",
     "text": [
      "Altogether, these wallets have 122 dollars in them\n"
     ]
    }
   ],
   "source": [
    "sum = addemAll(walletList)"
   ]
  },
  {
   "cell_type": "markdown",
   "metadata": {},
   "source": [
    "This function multiples the summmed number by 10 inoder to get the amount of dimes that are in all the wallets"
   ]
  },
  {
   "cell_type": "code",
   "execution_count": 22,
   "metadata": {},
   "outputs": [],
   "source": [
    "def dimePiece(sum):\n",
    "    dimeAmount= sum *10\n",
    "    print(\"Altogether, the total value of these wallets is worth \" + str(dimeAmount) + \" dimes\")\n"
   ]
  },
  {
   "cell_type": "code",
   "execution_count": 23,
   "metadata": {},
   "outputs": [
    {
     "name": "stdout",
     "output_type": "stream",
     "text": [
      "Altogether, the total value of these wallets is worth 1220 dimes\n"
     ]
    }
   ],
   "source": [
    "dimePiece(sum)"
   ]
  }
 ],
 "metadata": {
  "kernelspec": {
   "display_name": "Python 3",
   "language": "python",
   "name": "python3"
  },
  "language_info": {
   "codemirror_mode": {
    "name": "ipython",
    "version": 3
   },
   "file_extension": ".py",
   "mimetype": "text/x-python",
   "name": "python",
   "nbconvert_exporter": "python",
   "pygments_lexer": "ipython3",
   "version": "3.7.6"
  }
 },
 "nbformat": 4,
 "nbformat_minor": 4
}
