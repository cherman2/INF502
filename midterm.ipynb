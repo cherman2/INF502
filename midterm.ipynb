{
 "cells": [
  {
   "cell_type": "markdown",
   "metadata": {
    "id": "Lh3ghLaHqzFm"
   },
   "source": [
    "# MIDTERM\n",
    "## Chloe Herman and Simone Gable "
   ]
  },
  {
   "cell_type": "markdown",
   "metadata": {
    "id": "5VOzSh1DqzFn"
   },
   "source": [
    "1. Choose two of the following (10% - 5% each) - BASIC\n",
    "a. Write a program that asks the user to type an integer and outputs the number with the digits reversed. (for the input 12689, the output is 98621).\n",
    "b. Write a program to calculate the following series, given the “n” input by the user."
   ]
  },
  {
   "cell_type": "markdown",
   "metadata": {},
   "source": [
    "a.) First, defined the function 'reversenum', then created a while loop with try/except blocks to handle exceptions. The try clause casts the user input as an integer, and the except clause prompts the user to only enter an integer value. Then, an if/else statement catches an entry with less than 2 digits using the len() function to evaluate the length of the string (i.e. user entry). The program reverse the integer input using a while loop to first the initialized variable 'reverse' by 10 and add the remainder of \"RevOne' division. Then, numinput is divided by floor division to return an integer when printing 'reverse' to user."
   ]
  },
  {
   "cell_type": "code",
   "execution_count": null,
   "metadata": {
    "id": "4G9r3QrWXpMD"
   },
   "outputs": [],
   "source": [
    "def reversenum():\n",
    "    entry = True\n",
    "    while entry:\n",
    "        try:\n",
    "            numinput = int(input(\"Enter an integer with at least 2 digits:\"))\n",
    "        except ValueError:\n",
    "            print(\"Please enter an integer.\")\n",
    "        if len(str(numinput)) >= 2:\n",
    "            entry = False\n",
    "        else:\n",
    "          print(\"Please enter an integer with at least 2 digits.\")\n",
    "\n",
    "    reverse = 0\n",
    "    while (numinput > 0):\n",
    "        RevOne= numinput % 10\n",
    "        reverse= (reverse *10) + RevOne\n",
    "        numinput = numinput //10\n",
    "    print(\"Reversed input is:\" + str(reverse))\n",
    "\n",
    "reversenum()"
   ]
  },
  {
   "cell_type": "markdown",
   "metadata": {
    "id": "0pcAqTKjZ7sm"
   },
   "source": [
    "b.) First, defined 'sumFraction' function and created while loop with try/except to catch Value Errors. The program will only accept integer inputs to output the series sum. The variable 'tot' (for \"total value\") is initialized and a for loop is used with the range() function to handle the integer input and sum the values in the series up to '1/n'. The output is then printed to the user. "
   ]
  },
  {
   "cell_type": "code",
   "execution_count": null,
   "metadata": {},
   "outputs": [],
   "source": [
    "def sumFraction():\n",
    "    entry2 = True\n",
    "    while entry2:\n",
    "        try:\n",
    "            n = int(input(\"Enter an integer:\"))\n",
    "            entry2 = False\n",
    "        except ValueError:\n",
    "            print(\"Please enter one integer value.\")\n",
    "    tot = 0\n",
    "    for x in range(1, n+1):\n",
    "        tot = tot + (1/x)\n",
    "    print(\"Total is:\" + str(tot))\n",
    "\n",
    "sumfraction()"
   ]
  },
  {
   "cell_type": "markdown",
   "metadata": {
    "id": "SZs9p8NAqzFo"
   },
   "source": [
    "2. Choose one of the following (10%) – LOOPS 2\n",
    "a. Ask the user to enter 5 integer values between 1 and 20. Create a horizontal bar graph (with the numbers entered by the user), using “*” to represent the value"
   ]
  },
  {
   "cell_type": "markdown",
   "metadata": {},
   "source": [
    "a. Defined the function 'barGraph' and created an while loop to handle the 3 possible errors that the user could input: non-integers, more than 5 values, and values less than or greater than 1-20. The user input is prompted for, the string input is \"split\" into a list using the .split() function. The first try block uses a nested for loop to check that each element of the list is an integer value, and 'continue' is used to return the user to the beginning of the while loop after they are told to only enter integers. An if/else statement is used to check if the length of the list equals 5 elements, using len() function. The final error is handled in a for loop with an if/else statement to check if any integer value in the list is outside the 1-20 range.\n",
    "\n",
    "In order to generate the bar graph represented by astericks, list1 is initialized as a string, and nested for loops are used with the range() function to output a * for each value in the list of integers."
   ]
  },
  {
   "cell_type": "code",
   "execution_count": null,
   "metadata": {
    "id": "mKqz7Am5Xsn2"
   },
   "outputs": [],
   "source": [
    "def barGraph():\n",
    "    entry3 = True\n",
    "    while entry3:\n",
    "        count = 0\n",
    "        user_list = input(\"Enter 5 integers between 1 and 20, separated by a space:\")\n",
    "        list = user_list.split()\n",
    "        try:\n",
    "            for x in list:\n",
    "                x = int(x)\n",
    "        except ValueError:\n",
    "            print(\"Please enter integers only.\")\n",
    "            continue\n",
    "        if len(list) == 5:\n",
    "            count = count +1\n",
    "        else:\n",
    "            print(\"PLease enter 5 integer values.\")\n",
    "        for x in list:\n",
    "            if int(x) <= 20 and int(x) >= 1:\n",
    "                count = count +1\n",
    "            else:\n",
    "                print(\"PLease enter integer values between 1 and 20.\")\n",
    "        if count == len(list) +1:\n",
    "            entry3 = False\n",
    "\n",
    "    print(list)\n",
    "    list1 =\"\"\n",
    "    for i in list:\n",
    "        for y in range(int(i)):\n",
    "            list1 = list1 + \"*\"\n",
    "        print(list1)\n",
    "        list1 = \"\"\n",
    "\n",
    "\n",
    "barGraph()\n",
    "print(\"\\n\")"
   ]
  },
  {
   "cell_type": "markdown",
   "metadata": {
    "id": "nJXAJHM-qzFp"
   },
   "source": [
    "3. Pick three of these (24% - 8% each) - LISTS\n",
    "b. Write a function that, given a list, print all the elements that are repeated.\n",
    "d. Write a program that returns the nth smallest and the nth largest numbers in a list. “n” needs to be input by the user.\n",
    "e. Write a Python program to convert a list of positive integers into one integer, by merging them"
   ]
  },
  {
   "cell_type": "markdown",
   "metadata": {},
   "source": [
    "b. The function 'repeat' is defined and an empty list is created. A string is accepted as input from the user and then split into a list. 'size' variable is initialized to be used in the nested for loop that prints repeared elements. The range() function is used in the first for statement to loop through each element in the list (setting it for the length of the list), and the second for loop uses an if statement to remove any elements not repeated and print an appended list with only the repeated elements.\n",
    "\n",
    "To catch errors, the try/except blocks catch user entries with no repeats in a list, or an entry of an empty list."
   ]
  },
  {
   "cell_type": "code",
   "execution_count": null,
   "metadata": {
    "id": "0XsdhA_IqzFp"
   },
   "outputs": [],
   "source": [
    "def repeat():\n",
    "    repeatList = []\n",
    "    z = input(\"Enter a list of elements with repeats separated by a space:\")\n",
    "    splitList = z.split()\n",
    "    size = len(splitList)\n",
    "    for i in range(size):\n",
    "        b = i + 1\n",
    "        for j in range(b, size):\n",
    "            if splitList[i] == splitList[j] and splitList[i] not in repeatList:\n",
    "                repeatList.append(splitList[i])\n",
    "                print(repeatList)\n",
    "    try:\n",
    "        repeatList[0]\n",
    "        return repeatList\n",
    "    except IndexError:\n",
    "        print(\"No repeats found.\")\n",
    "        return None\n",
    "\n",
    "repeat()"
   ]
  },
  {
   "cell_type": "markdown",
   "metadata": {
    "id": "gulp2bYeqzFu"
   },
   "source": [
    "d. This function takes a list. It asks a user for a N. The user must enter a number that is shorter than the list. Then the function take the [n-1](to account for the 0 indexing) to calculate the nth lowestnumber, and -n to find the nth biggest number."
   ]
  },
  {
   "cell_type": "code",
   "execution_count": null,
   "metadata": {
    "id": "K-5K_URTqzFv"
   },
   "outputs": [],
   "source": [
    " list = [1,2,3,4,5,3,439,202,30,2023,22]\n",
    "\n",
    "def List(list):\n",
    "    attempt = True\n",
    "    while attempt:\n",
    "        try:\n",
    "            nth = int(input(\"You want to see the nth highest and nth lowest number in a list, What is the n? \"))\n",
    "        except ValueError:\n",
    "            print(\" you have to enter a number\")\n",
    "        if nth < len(list):\n",
    "            attempt = False\n",
    "        else:\n",
    "            print(\" the n must be smaller then the length of the string.\")\n",
    "            print(\" the length of the list is \" + str(len(list)))\n",
    "    list.sort()\n",
    "    print(list)\n",
    "    print(\" The nth smallest number is \" + str(list[nth - 1]))\n",
    "    print(\"The nth largest number is \" + str(list[-nth]))\n",
    "\n",
    "def mountain(dict):\n",
    "    for x in dict:\n",
    "        print(\"The Elevation of \" +x + \" is \" + str(dict[x]) + \"ft\")\n"
   ]
  },
  {
   "cell_type": "markdown",
   "metadata": {},
   "source": [
    "e. The function 'convert' is defined and handed the list 'posInt'. The try/except block catches list elements that are not positive integers. First using the isinstance() function to verify that the variable handed to the fucntion is in fact a list, the for loop verifies that the elements are integers and then uses an if statement to check if all integers are positive. The 'except' block prints a Value Error if the isinstance() function finds that posInt was not a list. \n",
    "\n",
    "To concert the list to one single integer value, the variable posOut is initiated as a string, and a for loop is used to convert the list to a string without spaces between elements. "
   ]
  },
  {
   "cell_type": "code",
   "execution_count": null,
   "metadata": {
    "id": "jvv0IbvJqzFx"
   },
   "outputs": [],
   "source": [
    "\n",
    "def convert(posInt):\n",
    "    \n",
    "    try:\n",
    "        isinstance(posInt, list)\n",
    "        for x in posInt:\n",
    "            x = int(x)\n",
    "            if x < 0:\n",
    "                print(\"List elements must be positive integers.\")\n",
    "    except ValueError:\n",
    "        print(\"This function was not handed a list.\")\n",
    "\n",
    "    posOut = \"\"\n",
    "    for x in posInt:\n",
    "        posOut = posOut + str(x)\n",
    "    print(posOut)\n",
    "\n",
    "\n",
    "posInt = [3, 5, 7, 88, 51, 17]\n",
    "convert(posInt)"
   ]
  },
  {
   "cell_type": "markdown",
   "metadata": {
    "id": "PmpmOtxaqzF2"
   },
   "source": [
    "4. Pick 1 of the following (15%) – DICTIONARIES\n",
    "a. Wikipedia has a list of the tallest mountains in the world [1] , with each mountain's elevation. Pick five mountains from this list."
   ]
  },
  {
   "cell_type": "markdown",
   "metadata": {
    "id": "cZWs810zqzF2"
   },
   "source": [
    "First, I wrote a dictionary. My function mountain prints the the mountain name and the elevation. The function mountain eraser erases a mountain, if handed a correct name. The function top mountain uses the built in Counter function that assumes that the value is a frequency and gives me the top two most common. This doesnt exactly fix the prompt but the mountains with the highest elevation will be considered the highest frequency."
   ]
  },
  {
   "cell_type": "code",
   "execution_count": null,
   "metadata": {
    "id": "Pvo8SXBhqzF3"
   },
   "outputs": [],
   "source": [
    "dict = {\"Everest\": 29029, \"K2\": 28251, \"Kangchenjunga\": 28169, \"Lhotse\": 27940, \"Makalu\": 27838}\n",
    "\n",
    "def mountain(dict):\n",
    "    for x in dict:\n",
    "        print(\"The Elevation of \" +x + \" is \" + str(dict[x]) + \"ft\")\n",
    "def mountaineraser(dict, name):\n",
    "    try:\n",
    "        del dict[name]\n",
    "    except KeyError:\n",
    "        print(\"The mountain \" + name+ \" is not in this list\")\n",
    "    print(dict)\n",
    "\n",
    "def topmountains(dict):\n",
    "    count = Counter(dict)\n",
    "    topmc = count.most_common(2)\n",
    "    print(\"The top to mountains are: \" )\n",
    "    print(topmc)\n",
    "\n",
    "mountain(dict)\n",
    "montaineraser(dict, \"igor\")\n",
    "topmountains(dict)"
   ]
  },
  {
   "cell_type": "markdown",
   "metadata": {
    "id": "Mb7neordqzF5"
   },
   "source": [
    "5. Pick 1 of the following (8%) – FILES\n",
    "b. Write a program to merge the content of two files and into a new third file."
   ]
  },
  {
   "cell_type": "markdown",
   "metadata": {
    "id": "czviDkZ7qzF6"
   },
   "source": [
    "My function recieves 2 file name. It opens both files, reads them and saves the data in a string. I then appended the data together seperated by a newline character. I then wrote the combined data to a new file"
   ]
  },
  {
   "cell_type": "code",
   "execution_count": null,
   "metadata": {
    "id": "XZPr7viOqzF6"
   },
   "outputs": [],
   "source": [
    "def movetoone(filename1, filename2):\n",
    "    try:\n",
    "        file1 = open( filename1, \"r\")\n",
    "        data1 = file1.read()\n",
    "    except IOError:\n",
    "        print(\"oops that file does not exist\")\n",
    "\n",
    "    try:\n",
    "        file2 = open( filename2, \"r\")\n",
    "        data2 = file2.read()\n",
    "    except IOError:\n",
    "        print(\"oops that file does not exist\")\n",
    "    data = data1\n",
    "    data += \"\\n\"\n",
    "    data += data2\n",
    "\n",
    "    file3 = open(\"File3.txt\", \"w\")\n",
    "    file3.write(data)\n"
   ]
  },
  {
   "cell_type": "markdown",
   "metadata": {
    "id": "fi8vQumbqzF8"
   },
   "source": [
    "6. Pick 1 of the following (10%) – FILES2\n",
    "a. Knowing that the first line of a csv file is the header, create a dictionary from this file considering that each row needs to be a nested dictionary, and the key of each of them is the number of the line. You need to write this dictionary to a .txt file."
   ]
  },
  {
   "cell_type": "markdown",
   "metadata": {
    "id": "oIXJ_6BVqzF9"
   },
   "source": [
    "I opened a file and read it and then I for looped through the file(Throwing away the first line). Then I used .split() on the file Line using the \",\" and tha gave me a list. I was then able to use the idex in the list to assign the correct value to their respective key. Finally I wrote the dictionary to a .txt file with specific formating"
   ]
  },
  {
   "cell_type": "code",
   "execution_count": null,
   "metadata": {
    "id": "psWrlXUJqzF9"
   },
   "outputs": [],
   "source": [
    "def addressbook(filename1):\n",
    "    dict = {}\n",
    "    try:\n",
    "        file1 = open(filename1, \"r\")\n",
    "    except IOError:\n",
    "        print(\"oops that file does not exist\")\n",
    "    count = 0\n",
    "    try:\n",
    "        f = open(\"dict.txt\", \"w\")\n",
    "    except:\n",
    "        print(\"Couldn't create file\")\n",
    "    for x in file1:\n",
    "        if count == 0:\n",
    "            count = count + 1\n",
    "        else:\n",
    "            x = x.strip()\n",
    "            list = x.split(\",\")\n",
    "            name = list[0]\n",
    "            address = list[1]\n",
    "            phone = list[2]\n",
    "            dob = list[3]\n",
    "            dict[count] = {\"name\": name,\"address\": address, \"phone\": phone , \"dob\": dob}\n",
    "            f.write(str(count) + \":\" + str(dict[count]))\n",
    "            f.write(\"\\n\")\n",
    "            count = count +1\n",
    "    print(dict)\n",
    "\n",
    "    file1.close()\n",
    "    f.close()"
   ]
  },
  {
   "cell_type": "markdown",
   "metadata": {
    "id": "l3tIwk9oqzF_"
   },
   "source": [
    "7. Mandatory exercise (13%):"
   ]
  },
  {
   "cell_type": "markdown",
   "metadata": {
    "id": "IbORLacjqzF_"
   },
   "source": [
    "This class has 8 attributes and prints the Genus and Species of the Ant object. It takes every line from the file give and splits it at the \",\". Then it takes the appropriate index from the list and uses that to assign the attribute."
   ]
  },
  {
   "cell_type": "code",
   "execution_count": null,
   "metadata": {
    "id": "Kx-aCMDbqzGA"
   },
   "outputs": [],
   "source": [
    "class Ant:\n",
    "    def __init__(self, speciescode,  genus, altg, species, alts, tribe, subfamily, idissue ):\n",
    "        self.speciescode = speciescode\n",
    "        self.species = species\n",
    "        self.genus = genus\n",
    "        self.altg = altg\n",
    "        self.alts = alts\n",
    "        self.tribe = tribe\n",
    "        self.subfamily = subfamily\n",
    "        self.idissue = idissue\n",
    "\n",
    "    def printant(self):\n",
    "        print(self.genus, self.species)\n",
    "\n",
    "def main():\n",
    "    populate(\"ant_species.csv\")\n",
    "    \n",
    "def populate(filename):\n",
    "    list = []\n",
    "    try:\n",
    "        file =open(filename, \"r\")\n",
    "    except IOError:\n",
    "        print(\"oops that file does not exist\")\n",
    "\n",
    "    for x in file:\n",
    "        x = x.strip()\n",
    "        list = x.split(\",\")\n",
    "        name = list[0]\n",
    "        name = Ant( list[0],list[1], list[2], list[3],list[4], list[5], list[6], list[7])\n",
    "        name.printant()\n",
    "main()"
   ]
  }
 ],
 "metadata": {
  "colab": {
   "collapsed_sections": [],
   "name": "midterm.ipynb",
   "provenance": []
  },
  "kernelspec": {
   "display_name": "Python 3",
   "language": "python",
   "name": "python3"
  },
  "language_info": {
   "codemirror_mode": {
    "name": "ipython",
    "version": 3
   },
   "file_extension": ".py",
   "mimetype": "text/x-python",
   "name": "python",
   "nbconvert_exporter": "python",
   "pygments_lexer": "ipython3",
   "version": "3.7.6"
  }
 },
 "nbformat": 4,
 "nbformat_minor": 1
}
