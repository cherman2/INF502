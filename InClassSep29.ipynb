{
 "cells": [
  {
   "cell_type": "markdown",
   "metadata": {},
   "source": [
    "# In Class Assignment on Object Oriented Programing"
   ]
  },
  {
   "cell_type": "markdown",
   "metadata": {},
   "source": [
    "### Chloe Herman and Simone Gable"
   ]
  },
  {
   "cell_type": "markdown",
   "metadata": {},
   "source": [
    "This is the section of code where I define the object Actor and all its attributes that you can set( Name, DOB, Nationality). "
   ]
  },
  {
   "cell_type": "code",
   "execution_count": 4,
   "metadata": {},
   "outputs": [],
   "source": [
    "class Actor:\n",
    "    name = \"\"\n",
    "    DOB = \"\"\n",
    "    nationality = \"\"\n",
    "\n",
    "    def __init__(self, name, DOB, nationality):\n",
    "        self.name = name\n",
    "        self.DOB = DOB\n",
    "        self.nationality = nationality\n",
    "    def set_name(self, name):\n",
    "        self.name = name\n",
    "    def set_DOB(self, DOB):\n",
    "        self.DOB = DOB\n",
    "    def set_nationality(self, nationality):\n",
    "        self.nationality = nationality"
   ]
  },
  {
   "cell_type": "markdown",
   "metadata": {},
   "source": [
    "This code defines the object Moive adn all its attributes that you can set( Name, Genre, year, review, actors( which refers to a list of the actor object), watch counter, whether it is borrowed and borrowers's name). This code also has a print function that prints the information in a specified format. "
   ]
  },
  {
   "cell_type": "code",
   "execution_count": 8,
   "metadata": {},
   "outputs": [],
   "source": [
    "class Movie:\n",
    "    name = \"\"\n",
    "    genres = ()\n",
    "    year = 0\n",
    "    review = \"\"\n",
    "    actor = []\n",
    "    counter = 0\n",
    "    borrowed = False\n",
    "    borrower_name = \"\"\n",
    "\n",
    "    def __init__(self, name, genres, year, review, actors, counter, borrowed,borrower_name):\n",
    "        self.name = name\n",
    "        self.genres = genres\n",
    "        self.year = year\n",
    "        self.review = review\n",
    "        self.actors = actors\n",
    "        self.counter = counter\n",
    "        self.borrowed = borrowed\n",
    "        self.borrower_name = borrower_name\n",
    "    def set_name(self, name):\n",
    "        self.name = name\n",
    "    def set_year(self, year):\n",
    "        self.year = year\n",
    "    def set_actors(self, name, DOB ,nationality):\n",
    "        actor = Actor(name, DOB, nationality)\n",
    "        temp = self.actors\n",
    "        temp = temp.append(actor)\n",
    "        self.actor = temp\n",
    "    def set_genres(self,genre_tuple):\n",
    "        self.genres = genre_tuple\n",
    "    def set_review(self, review):\n",
    "        self.review = review\n",
    "    def watch_movie(self):\n",
    "        self.counter += 1\n",
    "    def review_movie(self, review):\n",
    "        self.set_review(review)\n",
    "    def borrowing(self, person):\n",
    "        self.borrowed = True\n",
    "        self.borrower_name = person\n",
    "    def returned(self):\n",
    "        self.borrowed = False\n",
    "        self.borrower_name = \"\"\n",
    "    def print(self):\n",
    "        print(\"Move:\" + self.name + \"           Year:\" + str(self.year))\n",
    "        print(\"Genre:\" + self.genres)\n",
    "        print(\"List of Actors\")\n",
    "        temp = self.actors\n",
    "        for actor in temp:\n",
    "            print(\"     \"+ actor.name)\n"
   ]
  },
  {
   "cell_type": "markdown",
   "metadata": {},
   "source": [
    "This is where I test my code alittle. I set information into an object, movie 1, about the movie Casper but some of it is wrong so I use the functions associated with the class Movie to fix it. "
   ]
  },
  {
   "cell_type": "code",
   "execution_count": 11,
   "metadata": {},
   "outputs": [
    {
     "name": "stdout",
     "output_type": "stream",
     "text": [
      "Move:boo           Year:2020\n",
      "Genre:spook\n",
      "List of Actors\n",
      "     Chauncey Leopardi\n",
      "     Malachi Pearson\n",
      "Move:Casper           Year:1995\n",
      "Genre:family friendly, Halloween\n",
      "List of Actors\n",
      "     Chauncey Leopardi\n",
      "     Malachi Pearson\n",
      "     Spencer Vrooman\n",
      "Who is borrowing my movie? Igor\n",
      "I loved casper. He is so friendly and cute. 10/10\n"
     ]
    }
   ],
   "source": [
    "actor1 = Actor(\t\"Chauncey Leopardi\" , \"06/14/81\", \"American\" )\n",
    "actor2 = Actor(\"Malachi Pearson\", \"06/12/81\", \"American\")\n",
    "\n",
    "movie1 = Movie(\"boo\", \"spook\", 2020, \"bad\", [actor1, actor2], 4, False, \"\")\n",
    "movie1.watch_movie()\n",
    "movie1.print()\n",
    "movie1.set_name(\"Casper\")\n",
    "movie1.set_genres(\"family friendly, Halloween\")\n",
    "movie1.set_actors(\"Spencer Vrooman\", \"12/81\", \"N/A\")\n",
    "movie1.set_year(1995)\n",
    "movie1.review_movie(\"I loved casper. He is so friendly and cute. 10/10\")\n",
    "movie1.watch_movie()\n",
    "movie1.borrowing(\"Igor\")\n",
    "movie1.print()\n",
    "print(\"Who is borrowing my movie? \" + movie1.borrower_name )\n",
    "movie1.returned()\n",
    "print(movie1.review)"
   ]
  },
  {
   "cell_type": "code",
   "execution_count": null,
   "metadata": {},
   "outputs": [],
   "source": []
  }
 ],
 "metadata": {
  "kernelspec": {
   "display_name": "Python 3",
   "language": "python",
   "name": "python3"
  },
  "language_info": {
   "codemirror_mode": {
    "name": "ipython",
    "version": 3
   },
   "file_extension": ".py",
   "mimetype": "text/x-python",
   "name": "python",
   "nbconvert_exporter": "python",
   "pygments_lexer": "ipython3",
   "version": "3.7.6"
  }
 },
 "nbformat": 4,
 "nbformat_minor": 4
}
