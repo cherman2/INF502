{
 "cells": [
  {
   "cell_type": "markdown",
   "metadata": {},
   "source": [
    "### Periodic Table"
   ]
  },
  {
   "cell_type": "markdown",
   "metadata": {},
   "source": [
    "This is were I declare and make my gloabal dictionary"
   ]
  },
  {
   "cell_type": "code",
   "execution_count": 33,
   "metadata": {},
   "outputs": [],
   "source": [
    "ptable = {}\n",
    "ptable['H'] = [\"Hydrogen\", 1, 1, 1]\n",
    "    #index 0 = name\n",
    "    #index 1 = Atomic number\n",
    "    #index 2 = row\n",
    "    #index3 = column\n",
    "ptable[\"He\"] = [\"Helium\", 2, 1, 18]\n",
    "ptable[\"Li\"]= [\"Lithium\", 3,2,1]"
   ]
  },
  {
   "cell_type": "markdown",
   "metadata": {},
   "source": [
    "This is my menu function. It prints all the options and asks for user input. \n",
    "It also returns the userinput so it can be used in the periodic table function( Which is described later)"
   ]
  },
  {
   "cell_type": "code",
   "execution_count": 34,
   "metadata": {},
   "outputs": [],
   "source": [
    "def menu():\n",
    "    print(\" \\n Welcome to the Period Table Menu\")\n",
    "    print(\"1) See all the information that is stored about any element, by entering that element's symbol.\")\n",
    "    print(\"2) Choose a property, and see that property for each element in the table.\")\n",
    "    print(\"3) Enter a new element\")\n",
    "    print(\"4) Change the attributes of an element, by entering the element's symbol. \")\n",
    "    print(\"5) Exit the program \")\n",
    "    action = int(input(\" Please enter the number of the action you'd like to complete\"))\n",
    "    return action"
   ]
  },
  {
   "cell_type": "markdown",
   "metadata": {},
   "source": [
    "This function prints all the information of a given symbol( user given)."
   ]
  },
  {
   "cell_type": "code",
   "execution_count": 36,
   "metadata": {},
   "outputs": [],
   "source": [
    "def elementinfomation():\n",
    "    elementinfo = input(\"Please input the symbol of the Periodic element you would to see information on \")\n",
    "    #Stripped and made lower case to make sure that any variation of input could get in\n",
    "    elementinfo = elementinfo.lower()\n",
    "    elementinfo = elementinfo.strip()\n",
    "    elementinfo = elementinfo.capitalize()\n",
    "    elementList = ptable.get(elementinfo)\n",
    "    print(\"The element is: \" + str(elementList[0]) + \" The Atomic number is: \" + str(elementList[1]) + \" The row is: \" + str(elementList[2]) + \" The column is: \" + str(elementList[3]))"
   ]
  },
  {
   "cell_type": "markdown",
   "metadata": {},
   "source": [
    "This function adds a new element by asking the user symbol, name, atomic, "
   ]
  },
  {
   "cell_type": "code",
   "execution_count": 37,
   "metadata": {},
   "outputs": [],
   "source": [
    "def elementadd():\n",
    "    symbol = input(\"What is the symbol of the new element \")\n",
    "    symbol = symbol.strip()\n",
    "    symbol = symbol.capitalize()\n",
    "    name = input(\"What is the name of the new element \")\n",
    "    name = name.capitalize()\n",
    "    name = name.strip()\n",
    "    an = int(input(\"What is the Atomic Number of the new element \"))\n",
    "    row = int(input(\"What is the Row of the new element \"))\n",
    "    column = int(input(\"What is the Column of the new element \"))\n",
    "    ptable[symbol] = [name, an, row, column]\n",
    "    print(\"The new Element has been added.\\n\")"
   ]
  },
  {
   "cell_type": "markdown",
   "metadata": {},
   "source": [
    "This allows a user to change an element by entering the symbol. It provides the user with a list of of attributes it can change. and prompts anouther menu. It loops through this menu until the user prompts that they are done with that element."
   ]
  },
  {
   "cell_type": "code",
   "execution_count": 38,
   "metadata": {},
   "outputs": [],
   "source": [
    "def changeelement():\n",
    "    element = input(\"what element would you like to change\")\n",
    "    element = element.capitalize()\n",
    "    elementList = ptable[element]\n",
    "    print(element + \" has these attributes. Name: \" + str(elementList[0]) + \" Atomic number: \" + str(\n",
    "        elementList[1]) + \" row: \" + str(elementList[2]) + \" column: \" + str(elementList[3]))\n",
    "    changelement = True\n",
    "    while changelement:\n",
    "        print(\n",
    "            \"What attribute would you like to change \\n 1) name \\n 2) Atomic number \\n 3) row \\n 4) column \\n 5) nothing\")\n",
    "        choice = int(input(\"please enter 1-5\"))\n",
    "        if choice == 1:\n",
    "            changedname = input(\"What do you want to change the name to?\")\n",
    "            changedname = changedname.strip()\n",
    "            changedname = changedname.capitalize()\n",
    "            elementList[0] = changedname\n",
    "            print(element + \" has these attributes. Name: \" + str(elementList[0]) + \" Atomic number: \" + str(\n",
    "                elementList[1]) + \" row: \" + str(elementList[2]) + \" column: \" + str(elementList[3]))\n",
    "        elif choice == 2:\n",
    "            changedan = int(input(\"What do you want to change the Atomic Number to? \"))\n",
    "            elementList[1] = changedan\n",
    "            print(element + \" has these attributes. Name: \" + str(elementList[0]) + \" Atomic number: \" + str(\n",
    "                elementList[1]) + \" row: \" + str(elementList[2]) + \" column: \" + str(elementList[3]))\n",
    "        elif choice == 3:\n",
    "            changerow = int(input(\"What do you want to change the row to? \"))\n",
    "            elementList[2] = changerow\n",
    "            print(element + \" has these attributes. Name: \" + str(elementList[0]) + \" Atomic number: \" + str(\n",
    "                elementList[1]) + \" row: \" + str(elementList[2]) + \" column: \" + str(elementList[3]))\n",
    "        elif choice == 4:\n",
    "            changecolumn = int(input(\"What do you want the column to be? \"))\n",
    "            elementList[3] = changecolumn\n",
    "            print(element + \" has these attributes. Name: \" + str(elementList[0]) + \" Atomic number: \" + str(\n",
    "                elementList[1]) + \" row: \" + str(elementList[2]) + \" column: \" + str(elementList[3]))\n",
    "        elif choice == 5:\n",
    "            changelement = False\n",
    "            print(\"returning to the main menu\")\n",
    "        else:\n",
    "            print(\"Please enter a number 1-5\")"
   ]
  },
  {
   "cell_type": "markdown",
   "metadata": {},
   "source": [
    "This fuction allows the user to input a property and then the function lists that property for every element by going through a for loop of the dictionary."
   ]
  },
  {
   "cell_type": "code",
   "execution_count": 39,
   "metadata": {},
   "outputs": [],
   "source": [
    "def propertyview():\n",
    "    elementproperty = input(\"What property would you like to see: Atomic number, Name, Symbol, row, or column? \")\n",
    "    elementproperty = elementproperty.strip()\n",
    "    elementproperty = elementproperty.upper()\n",
    "    print(\"Okay looking  at \" + elementproperty)\n",
    "    for key in ptable:\n",
    "        elementList = ptable.get(key)\n",
    "        if elementproperty == \"ATOMIC NUMBER\":\n",
    "            print(\"The Atomic number for \" + key + \" is \" + str(elementList[1]))\n",
    "        elif elementproperty == \"NAME\":\n",
    "            print(\"The Name of this element is \" + str(elementList[0]))\n",
    "        elif elementproperty == \"ROW\":\n",
    "            print(\"The row of \" + key + \" is \" + str(elementList[2]))\n",
    "        elif elementproperty == \"SYMBOL\":\n",
    "            print(\"The symbol for \" + str(elementList[0]) + \" is \" + key)\n",
    "        elif elementproperty == \"COLUMN\":\n",
    "            print(\"The row of \" + key + \" is \" + str(elementList[2]))\n",
    "        else:\n",
    "            print(\"Your entry was not valid. Please try again \\n\")"
   ]
  },
  {
   "cell_type": "markdown",
   "metadata": {},
   "source": [
    "This is the fuction that actually calls everything. It is looping while loop equals tre. It calls the menu, in the while loop so that the user can use the menu over again until they ask to exit. If the user inputs 1, the function calls elementinfomation. If the user inputs 2 it calls propertyview. If the user inputs 3, it calls elementadd. if the user inputs four, it calls changeelement. Finally if the user inputs 5, it sets loop to false. This breaks the while loop and kicks the user from the menu."
   ]
  },
  {
   "cell_type": "code",
   "execution_count": 40,
   "metadata": {},
   "outputs": [],
   "source": [
    "def periodictable():\n",
    "    loop = True\n",
    "    while loop:\n",
    "        action = menu()\n",
    "        if action == 1:\n",
    "            elementinfomation()\n",
    "        elif action == 2:\n",
    "            propertyview()\n",
    "        elif action == 3:\n",
    "            elementadd()\n",
    "        elif action == 4:\n",
    "            changeelement()\n",
    "        elif action == 5:\n",
    "            loop =False\n",
    "            print(\"The current periodic table is\" + str(ptable))\n",
    "            print(\" Exiting menu. Thank you!\" )"
   ]
  },
  {
   "cell_type": "markdown",
   "metadata": {},
   "source": [
    "This calls my periodictable fuction and makes the program run"
   ]
  },
  {
   "cell_type": "code",
   "execution_count": 41,
   "metadata": {},
   "outputs": [
    {
     "name": "stdout",
     "output_type": "stream",
     "text": [
      " \n",
      " Welcome to the Period Table Menu\n",
      "1) See all the information that is stored about any element, by entering that element's symbol.\n",
      "2) Choose a property, and see that property for each element in the table.\n",
      "3) Enter a new element\n",
      "4) Change the attributes of an element, by entering the element's symbol. \n",
      "5) Exit the program \n",
      " Please enter the number of the action you'd like to complete1\n",
      "Please input the symbol of the Periodic element you would to see information on h\n",
      "The element is: Hydrogen The Atomic number is: 1 The row is: 1 The column is: 1\n",
      " \n",
      " Welcome to the Period Table Menu\n",
      "1) See all the information that is stored about any element, by entering that element's symbol.\n",
      "2) Choose a property, and see that property for each element in the table.\n",
      "3) Enter a new element\n",
      "4) Change the attributes of an element, by entering the element's symbol. \n",
      "5) Exit the program \n",
      " Please enter the number of the action you'd like to complete2\n",
      "What property would you like to see: Atomic number, Name, Symbol, row, or column? Atomic number \n",
      "Okay looking  at ATOMIC NUMBER\n",
      "The Atomic number for H is 1\n",
      "The Atomic number for He is 2\n",
      "The Atomic number for Li is 3\n",
      " \n",
      " Welcome to the Period Table Menu\n",
      "1) See all the information that is stored about any element, by entering that element's symbol.\n",
      "2) Choose a property, and see that property for each element in the table.\n",
      "3) Enter a new element\n",
      "4) Change the attributes of an element, by entering the element's symbol. \n",
      "5) Exit the program \n",
      " Please enter the number of the action you'd like to complete3\n",
      "What is the symbol of the new element o\n",
      "What is the name of the new element oxygen\n",
      "What is the Atomic Number of the new element 8\n",
      "What is the Row of the new element 2\n",
      "What is the Column of the new element 16\n",
      "The new Element has been added.\n",
      "\n",
      " \n",
      " Welcome to the Period Table Menu\n",
      "1) See all the information that is stored about any element, by entering that element's symbol.\n",
      "2) Choose a property, and see that property for each element in the table.\n",
      "3) Enter a new element\n",
      "4) Change the attributes of an element, by entering the element's symbol. \n",
      "5) Exit the program \n",
      " Please enter the number of the action you'd like to complete4\n",
      "what element would you like to changeo\n",
      "O has these attributes. Name: Oxygen Atomic number: 8 row: 2 column: 16\n",
      "What attribute would you like to change \n",
      " 1) name \n",
      " 2) Atomic number \n",
      " 3) row \n",
      " 4) column \n",
      " 5) nothing\n",
      "please enter 1-51\n",
      "What do you want to change the name to?obo\n",
      "O has these attributes. Name: Obo Atomic number: 8 row: 2 column: 16\n",
      "What attribute would you like to change \n",
      " 1) name \n",
      " 2) Atomic number \n",
      " 3) row \n",
      " 4) column \n",
      " 5) nothing\n",
      "please enter 1-51\n",
      "What do you want to change the name to?oxygen\n",
      "O has these attributes. Name: Oxygen Atomic number: 8 row: 2 column: 16\n",
      "What attribute would you like to change \n",
      " 1) name \n",
      " 2) Atomic number \n",
      " 3) row \n",
      " 4) column \n",
      " 5) nothing\n",
      "please enter 1-55\n",
      "returning to the main menu\n",
      " \n",
      " Welcome to the Period Table Menu\n",
      "1) See all the information that is stored about any element, by entering that element's symbol.\n",
      "2) Choose a property, and see that property for each element in the table.\n",
      "3) Enter a new element\n",
      "4) Change the attributes of an element, by entering the element's symbol. \n",
      "5) Exit the program \n",
      " Please enter the number of the action you'd like to complete5\n",
      "The current periodic table is{'H': ['Hydrogen', 1, 1, 1], 'He': ['Helium', 2, 1, 18], 'Li': ['Lithium', 3, 2, 1], 'O': ['Oxygen', 8, 2, 16]}\n",
      " Exiting menu. Thank you!\n"
     ]
    }
   ],
   "source": [
    "periodictable()"
   ]
  }
 ],
 "metadata": {
  "kernelspec": {
   "display_name": "Python 3",
   "language": "python",
   "name": "python3"
  },
  "language_info": {
   "codemirror_mode": {
    "name": "ipython",
    "version": 3
   },
   "file_extension": ".py",
   "mimetype": "text/x-python",
   "name": "python",
   "nbconvert_exporter": "python",
   "pygments_lexer": "ipython3",
   "version": "3.7.6"
  }
 },
 "nbformat": 4,
 "nbformat_minor": 4
}
